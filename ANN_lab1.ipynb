{
  "nbformat": 4,
  "nbformat_minor": 0,
  "metadata": {
    "colab": {
      "provenance": []
    },
    "kernelspec": {
      "name": "python3",
      "display_name": "Python 3"
    },
    "language_info": {
      "name": "python"
    }
  },
  "cells": [
    {
      "cell_type": "code",
      "execution_count": 1,
      "metadata": {
        "id": "CrI3vrGVpLPc",
        "colab": {
          "base_uri": "https://localhost:8080/"
        },
        "outputId": "b1b6a6f3-20de-4f82-ae13-8c307c789b47"
      },
      "outputs": [
        {
          "output_type": "stream",
          "name": "stdout",
          "text": [
            "Sum: 15\n",
            "Difference: 5\n",
            "Product: 50\n",
            "Division: 2.0\n"
          ]
        }
      ],
      "source": [
        "a = 10\n",
        "b = 5\n",
        "\n",
        "sum = a + b\n",
        "difference = a - b\n",
        "product = a * b\n",
        "division = a / b\n",
        "\n",
        "print(\"Sum:\", sum)\n",
        "print(\"Difference:\", difference)\n",
        "print(\"Product:\", product)\n",
        "print(\"Division:\", division)"
      ]
    },
    {
      "cell_type": "code",
      "source": [
        "x = 13 / 2\n",
        "y = 13 % 2\n",
        "\n",
        "print(x)\n",
        "print(y)"
      ],
      "metadata": {
        "id": "Z5KG4V8lpVLp",
        "colab": {
          "base_uri": "https://localhost:8080/"
        },
        "outputId": "9c781854-b11e-4989-9cd2-26912dc2201d"
      },
      "execution_count": 2,
      "outputs": [
        {
          "output_type": "stream",
          "name": "stdout",
          "text": [
            "6.5\n",
            "1\n"
          ]
        }
      ]
    },
    {
      "cell_type": "code",
      "source": [
        "def greet(name):\n",
        "    return(\"Hello, \" + name + \"!\")\n",
        "\n",
        "my_name = input('Please enter your name:')\n",
        "greet(my_name)"
      ],
      "metadata": {
        "id": "rm3LrK7ipVIq",
        "colab": {
          "base_uri": "https://localhost:8080/",
          "height": 54
        },
        "outputId": "a57ccac0-333e-4737-e65f-d9cc9e0f757a"
      },
      "execution_count": 6,
      "outputs": [
        {
          "name": "stdout",
          "output_type": "stream",
          "text": [
            "Please enter your name:Abdulla\n"
          ]
        },
        {
          "output_type": "execute_result",
          "data": {
            "text/plain": [
              "'Hello, Abdulla!'"
            ],
            "application/vnd.google.colaboratory.intrinsic+json": {
              "type": "string"
            }
          },
          "metadata": {},
          "execution_count": 6
        }
      ]
    },
    {
      "cell_type": "code",
      "source": [
        "def add_numbers(a, b):\n",
        "    return a + b\n",
        "\n",
        "a = int(input(\"Enter the first number: \"))\n",
        "b = int(input(\"Enter the second number: \"))\n",
        "\n",
        "result = add_numbers(a, b)\n",
        "print(\"The sum of\", a, \"and\", b, \"is\", result)"
      ],
      "metadata": {
        "id": "g4EfuLTxpVG2",
        "colab": {
          "base_uri": "https://localhost:8080/"
        },
        "outputId": "c446dcb9-7c2d-4435-d7da-aea61b49cd0d"
      },
      "execution_count": 4,
      "outputs": [
        {
          "output_type": "stream",
          "name": "stdout",
          "text": [
            "Enter the first number: 3\n",
            "Enter the second number: 6\n",
            "The sum of 3 and 6 is 9\n"
          ]
        }
      ]
    },
    {
      "cell_type": "code",
      "source": [
        "message = 'Hello, World!'\n",
        "length = len(message)\n",
        "uppercase_message = message.upper()\n",
        "lowercase_message = message.lower()\n",
        "substring = message[7:12]\n",
        "\n",
        "print('original message', message)\n",
        "print('length of message', length)\n",
        "print('uppercase message', uppercase_message)\n",
        "print('lowercase message', lowercase_message)\n",
        "print('substring', substring)"
      ],
      "metadata": {
        "id": "96OtbHCapVEz",
        "colab": {
          "base_uri": "https://localhost:8080/"
        },
        "outputId": "138ceea3-094f-45f2-fab2-f2c64197ef4f"
      },
      "execution_count": 5,
      "outputs": [
        {
          "output_type": "stream",
          "name": "stdout",
          "text": [
            "original message Hello, World!\n",
            "length of message 13\n",
            "uppercase message HELLO, WORLD!\n",
            "lowercase message hello, world!\n",
            "substring World\n"
          ]
        }
      ]
    }
  ]
}