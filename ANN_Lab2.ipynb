{
  "nbformat": 4,
  "nbformat_minor": 0,
  "metadata": {
    "colab": {
      "provenance": []
    },
    "kernelspec": {
      "name": "python3",
      "display_name": "Python 3"
    },
    "language_info": {
      "name": "python"
    }
  },
  "cells": [
    {
      "cell_type": "code",
      "execution_count": 1,
      "metadata": {
        "colab": {
          "base_uri": "https://localhost:8080/"
        },
        "id": "R2lHrUMFq3ba",
        "outputId": "edf5596c-b715-4f10-fc5d-0151d08160e6"
      },
      "outputs": [
        {
          "output_type": "stream",
          "name": "stdout",
          "text": [
            "Enter your age:26\n",
            "you are already an adult\n"
          ]
        }
      ],
      "source": [
        "age=int(input(\"Enter your age:\"))\n",
        "\n",
        "if age<18:\n",
        " print('you are minor')\n",
        "elif age ==18:\n",
        " print('you are just adult now')\n",
        "else:\n",
        " print('you are already an adult')"
      ]
    },
    {
      "cell_type": "code",
      "source": [
        "score= eval(input(\"enter your score:\"))\n",
        "\n",
        "if score >=90:\n",
        "  grade = \"A\"\n",
        "  print(\"your grade is \",grade)\n",
        "elif score >=80:\n",
        "  grade = \"B\"\n",
        "  print(\"your grade is \",grade)\n",
        "elif score >=70:\n",
        "  grade = \"C\"\n",
        "  print(\"your grade is \",grade)\n",
        "elif score >=60:\n",
        "  grade = \"D\"\n",
        "  print(\"your grade is \",grade)\n",
        "else:\n",
        "  grade = \"F\"\n",
        "  print(\"your grade is \",grade)"
      ],
      "metadata": {
        "colab": {
          "base_uri": "https://localhost:8080/"
        },
        "id": "oq8MjCS8rJpK",
        "outputId": "3992c130-161d-4b06-dbe7-a0cf468819fc"
      },
      "execution_count": 2,
      "outputs": [
        {
          "output_type": "stream",
          "name": "stdout",
          "text": [
            "enter your score:85\n",
            "your grade is  B\n"
          ]
        }
      ]
    },
    {
      "cell_type": "code",
      "source": [
        "fruits= [\"apple\",\"banana\",\"cherry\"]\n",
        "\n",
        "for index in fruits:\n",
        " print(\"I like\", index)"
      ],
      "metadata": {
        "colab": {
          "base_uri": "https://localhost:8080/"
        },
        "id": "6NXGVqKIrJln",
        "outputId": "8272e911-1c22-47ac-e3da-41ea9e558ef6"
      },
      "execution_count": 3,
      "outputs": [
        {
          "output_type": "stream",
          "name": "stdout",
          "text": [
            "I like apple\n",
            "I like banana\n",
            "I like cherry\n"
          ]
        }
      ]
    },
    {
      "cell_type": "code",
      "source": [
        "numbers = [5,10,15,20,25]\n",
        "sum=0\n",
        "for index in numbers:\n",
        " sum+=index\n",
        "print(\"the sum is\", sum)"
      ],
      "metadata": {
        "colab": {
          "base_uri": "https://localhost:8080/"
        },
        "id": "ui8CKS1qrJjl",
        "outputId": "61031e6f-ea94-4ecb-c568-b8e9f1b4fbcd"
      },
      "execution_count": 4,
      "outputs": [
        {
          "output_type": "stream",
          "name": "stdout",
          "text": [
            "the sum is 75\n"
          ]
        }
      ]
    },
    {
      "cell_type": "code",
      "source": [
        "count=1\n",
        "while count<=5:\n",
        "  print(\"the count is\",count)\n",
        "  count +=1"
      ],
      "metadata": {
        "colab": {
          "base_uri": "https://localhost:8080/"
        },
        "id": "KxfyORtVrJgq",
        "outputId": "4aced8e6-6b92-458e-e7cc-8d736818a745"
      },
      "execution_count": 5,
      "outputs": [
        {
          "output_type": "stream",
          "name": "stdout",
          "text": [
            "the count is 1\n",
            "the count is 2\n",
            "the count is 3\n",
            "the count is 4\n",
            "the count is 5\n"
          ]
        }
      ]
    },
    {
      "cell_type": "code",
      "source": [
        "while True:\n",
        "  print(\"Menu:\")\n",
        "  print(\"1.option 1\")\n",
        "  print(\"2.option 2\")\n",
        "  print(\"3.option 3\")\n",
        "  print(\"4. Quit 4\")\n",
        "  choice = int(input(\"Enter your choice:\"))\n",
        "\n",
        "  if choice ==1:\n",
        "    print(\"you selected option 1\")\n",
        "  elif choice ==2:\n",
        "    print(\"you selected option 2\")\n",
        "  elif choice ==3:\n",
        "    print(\"you selected option 3\")\n",
        "  elif choice ==4:\n",
        "    print(\"Goodbye\")\n",
        "    break\n",
        "  else:\n",
        "    print(\"invalid choice.please try again.\")"
      ],
      "metadata": {
        "colab": {
          "base_uri": "https://localhost:8080/"
        },
        "id": "TJr_dxRyrJeO",
        "outputId": "57b9cf9d-d451-4494-fc73-20d382e6e988"
      },
      "execution_count": 6,
      "outputs": [
        {
          "output_type": "stream",
          "name": "stdout",
          "text": [
            "Menu:\n",
            "1.option 1\n",
            "2.option 2\n",
            "3.option 3\n",
            "4. Quit 4\n",
            "Enter your choice:4\n",
            "Goodbye\n"
          ]
        }
      ]
    },
    {
      "cell_type": "code",
      "source": [
        "import time\n",
        "countdown = 5\n",
        "print(\"counter started \")\n",
        "while countdown >0:\n",
        "  print(countdown)\n",
        "  time.sleep(1)\n",
        "  countdown -=1\n",
        "print(\"countdown finished\")"
      ],
      "metadata": {
        "colab": {
          "base_uri": "https://localhost:8080/"
        },
        "id": "qW4eFmkZrhO8",
        "outputId": "587190f9-174f-496d-9748-2443e7f1fda9"
      },
      "execution_count": 7,
      "outputs": [
        {
          "output_type": "stream",
          "name": "stdout",
          "text": [
            "counter started \n",
            "5\n",
            "4\n",
            "3\n",
            "2\n",
            "1\n",
            "countdown finished\n"
          ]
        }
      ]
    },
    {
      "cell_type": "code",
      "source": [
        "colors = [\"red\",\"green\",\"blue\"]\n",
        "print(\"colors\",colors)\n",
        "colors.append(\"yellow\")\n",
        "print(\"colors\",colors)"
      ],
      "metadata": {
        "colab": {
          "base_uri": "https://localhost:8080/"
        },
        "id": "XyjZU4cDrhLk",
        "outputId": "79fc3abf-7b8b-4659-ae73-fae8acf2e9a5"
      },
      "execution_count": 8,
      "outputs": [
        {
          "output_type": "stream",
          "name": "stdout",
          "text": [
            "colors ['red', 'green', 'blue']\n",
            "colors ['red', 'green', 'blue', 'yellow']\n"
          ]
        }
      ]
    },
    {
      "cell_type": "code",
      "source": [
        "todo_list =[]\n",
        "\n",
        "print(\"welcome to do list \")\n",
        "\n",
        "while True:\n",
        "  print(\"Options\")\n",
        "  print(\"1.Add task\")\n",
        "  print(\"2.View tasks\")\n",
        "  print(\"3.Quit\")\n",
        "\n",
        "  choice = input(\"Enter your choice:\")\n",
        "\n",
        "  if choice == \"1\":\n",
        "    task = input(\"Enter a task:\")\n",
        "    todo_list.append(task)\n",
        "    print(\"tasl added:\")\n",
        "  elif choice == \"2\":\n",
        "    print(\"tasks:\")\n",
        "    for task in todo_list:\n",
        "      print(\"- \",task)\n",
        "  elif choice == \"3\":\n",
        "    print(\"Goodbye\")\n",
        "    break\n",
        "  else:\n",
        "    print(\"invalid choice.please try again.\")\n"
      ],
      "metadata": {
        "colab": {
          "base_uri": "https://localhost:8080/"
        },
        "id": "jnSDDPAOrhJr",
        "outputId": "acc41a2b-3056-445d-9201-5058c50e08d1"
      },
      "execution_count": 9,
      "outputs": [
        {
          "output_type": "stream",
          "name": "stdout",
          "text": [
            "welcome to do list \n",
            "Options\n",
            "1.Add task\n",
            "2.View tasks\n",
            "3.Quit\n",
            "Enter your choice:5\n",
            "invalid choice.please try again.\n",
            "Options\n",
            "1.Add task\n",
            "2.View tasks\n",
            "3.Quit\n",
            "Enter your choice:2\n",
            "tasks:\n",
            "Options\n",
            "1.Add task\n",
            "2.View tasks\n",
            "3.Quit\n",
            "Enter your choice:3\n",
            "Goodbye\n"
          ]
        }
      ]
    },
    {
      "cell_type": "code",
      "source": [
        "person_info=(\"Alice\",23)\n",
        "print(\"person information:\")\n",
        "print(\"name:\",person_info[0])\n",
        "print(\"age:\",person_info[1])"
      ],
      "metadata": {
        "colab": {
          "base_uri": "https://localhost:8080/"
        },
        "id": "PoK5rpnCrhHn",
        "outputId": "55d08990-b479-460e-9466-bc687e9614df"
      },
      "execution_count": 10,
      "outputs": [
        {
          "output_type": "stream",
          "name": "stdout",
          "text": [
            "person information:\n",
            "name: Alice\n",
            "age: 23\n"
          ]
        }
      ]
    },
    {
      "cell_type": "code",
      "source": [
        "student={\n",
        "    \"name\":\"Alice\",\n",
        "    \"age\":23,\n",
        "    \"major\":\"Computer Science\"\n",
        "\n",
        "}\n",
        "student[grade]=\"A\"\n",
        "name=student[\"name\"]\n",
        "print(\"student\",student)\n",
        "print(\"student\",name)"
      ],
      "metadata": {
        "colab": {
          "base_uri": "https://localhost:8080/"
        },
        "id": "1uqUtVxGrhFx",
        "outputId": "d587a07b-550d-47c1-a32a-66b8017a848c"
      },
      "execution_count": 11,
      "outputs": [
        {
          "output_type": "stream",
          "name": "stdout",
          "text": [
            "student {'name': 'Alice', 'age': 23, 'major': 'Computer Science', 'B': 'A'}\n",
            "student Alice\n"
          ]
        }
      ]
    },
    {
      "cell_type": "code",
      "source": [
        "student1 = {\n",
        "    \"name\":\"Alice\",\n",
        "    \"age\":23,\n",
        "    \"major\":\"Computer Science\",\n",
        "    \"grade\":\"A\"\n",
        "}\n",
        "\n",
        "student2  = {\n",
        "    \"name\":\"Bob\",\n",
        "    \"age\":22,\n",
        "    \"major\":\"Mathematics\",\n",
        "    \"grade\": \"B\"\n",
        "    }\n",
        "students =[student1,student2]\n",
        "\n",
        "for student in students:\n",
        "  print(\"student name:\",student[\"name\"])\n",
        "  print(\"student age:\",student[\"age\"])\n",
        "  print(\"student major:\",student[\"major\"])\n",
        "  print(\"student grade:\",student[\"grade\"])\n",
        "  print()\n",
        ""
      ],
      "metadata": {
        "colab": {
          "base_uri": "https://localhost:8080/"
        },
        "id": "k5hGV1bzrhDp",
        "outputId": "e846a692-0a9c-4631-d6b7-dd47ee3f90af"
      },
      "execution_count": 12,
      "outputs": [
        {
          "output_type": "stream",
          "name": "stdout",
          "text": [
            "student name: Alice\n",
            "student age: 23\n",
            "student major: Computer Science\n",
            "student grade: A\n",
            "\n",
            "student name: Bob\n",
            "student age: 22\n",
            "student major: Mathematics\n",
            "student grade: B\n",
            "\n"
          ]
        }
      ]
    }
  ]
}